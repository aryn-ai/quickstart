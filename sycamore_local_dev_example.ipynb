{
 "cells": [
  {
   "cell_type": "code",
   "execution_count": null,
   "id": "5b3fccd3-55d4-49e1-bc41-5b52ce2cd216",
   "metadata": {},
   "outputs": [],
   "source": [
    "import sys\n",
    "\n",
    "import json\n",
    "\n",
    "from IPython.display import display, Image\n",
    "from IPython.display import IFrame\n",
    "from PIL import Image as PImage\n",
    "\n",
    "import sycamore\n",
    "from sycamore.data import Document\n",
    "from sycamore.transforms.embed import SentenceTransformerEmbedder\n",
    "from sycamore.transforms.extract_entity import OpenAIEntityExtractor\n",
    "from sycamore.llms import OpenAIModels, OpenAI, LLM\n",
    "from sycamore.transforms.partition import UnstructuredPdfPartitioner, HtmlPartitioner\n",
    "from sycamore.llms.prompts.default_prompts import TEXT_SUMMARIZER_GUIDANCE_PROMPT_CHAT\n",
    "from sycamore.transforms.summarize import Summarizer\n",
    "from sycamore.transforms.extract_table import TextractTableExtractor\n",
    "from sycamore.functions.document import split_and_convert_to_image, DrawBoxes\n",
    "from sycamore.tests.config import TEST_DIR\n",
    "from sycamore.transforms.merge_elements import GreedyTextElementMerger\n",
    "from sycamore.functions.tokenizer import HuggingFaceTokenizer\n",
    "from sycamore.scans.file_scan import JsonManifestMetadataProvider"
   ]
  },
  {
   "cell_type": "code",
   "execution_count": null,
   "id": "1734d1c9-8775-43d0-99f1-656514d0eb17",
   "metadata": {},
   "outputs": [],
   "source": [
    "#create the document manefest for the demo UI\n",
    "\n",
    "metadata = {\n",
    "  \"tmp/sycamore/data/1706.03762.pdf\" : {\n",
    "    \"_location\": \"https://arxiv.org/pdf/1706.03762.pdf\"\n",
    "  }, \"tmp/sycamore/data/2306.07303.pdf\" : {\n",
    "    \"_location\": \"https://arxiv.org/pdf/2306.07303.pdf\"\n",
    "  }\n",
    "}\n",
    "\n",
    "with open(\"tmp/sycamore/manifest.json\", \"w\") as f:\n",
    "    json.dump(metadata, f)\n",
    "manifest_path = \"tmp/sycamore/manifest.json\""
   ]
  },
  {
   "cell_type": "code",
   "execution_count": null,
   "id": "5ced791b-f2c4-4245-b2e3-c79c641c8447",
   "metadata": {},
   "outputs": [],
   "source": [
    "#visualize the document\n",
    "\n",
    "IFrame(str(\"tmp/sycamore/data/1706.03762.pdf\"), width=700, height=600)"
   ]
  },
  {
   "cell_type": "code",
   "execution_count": null,
   "id": "a775ad39-7fdd-48eb-8bd2-33bcb3b5fde9",
   "metadata": {},
   "outputs": [],
   "source": [
    "#visualize the document\n",
    "\n",
    "IFrame(str(\"tmp/sycamore/data/2306.07303.pdf\"), width=700, height=600)"
   ]
  },
  {
   "cell_type": "code",
   "execution_count": null,
   "id": "8e330cdd-ed54-4f78-b284-58fdd0c8e51d",
   "metadata": {},
   "outputs": [],
   "source": [
    "paths = \"tmp/sycamore/data/\"\n",
    "font_path = \"Arial.ttf\"\n",
    "\n",
    "openai_llm = OpenAI(OpenAIModels.GPT_3_5_TURBO.value)"
   ]
  },
  {
   "cell_type": "code",
   "execution_count": null,
   "id": "5168af9a-5351-4f72-ba6b-7afe6d9bfc17",
   "metadata": {},
   "outputs": [],
   "source": [
    "context = sycamore.init()\n",
    "pdf_docset = context.read.binary(paths, binary_format=\"pdf\", metadata_provider=JsonManifestMetadataProvider(manifest_path))\n",
    "\n",
    "pdf_docset.show(show_binary = False)"
   ]
  },
  {
   "cell_type": "code",
   "execution_count": null,
   "id": "ef10d8fb-592a-48a7-98e1-a1c9e45035e2",
   "metadata": {},
   "outputs": [],
   "source": [
    "def filter_func(doc: Document) -> bool:\n",
    "    return doc.properties[\"page_number\"] == 1\n",
    "\n",
    "partitioned_docset = pdf_docset.partition(partitioner=UnstructuredPdfPartitioner())\n",
    "docset = (partitioned_docset\n",
    "              .partition(partitioner=UnstructuredPdfPartitioner())\n",
    "              .flat_map(split_and_convert_to_image)\n",
    "              .map_batch(DrawBoxes, f_constructor_args=[font_path])\n",
    "              .filter(filter_func))\n",
    "\n",
    "for doc in docset.take(2):\n",
    "    display(Image(doc.binary_representation, height=500, width=500))"
   ]
  },
  {
   "cell_type": "code",
   "execution_count": null,
   "id": "87489c5d-a455-4f6c-a915-39c698728fa2",
   "metadata": {},
   "outputs": [],
   "source": [
    "#This cell is added in the \"metadata extraction\" part of the example\n",
    "\n",
    "title_context_template = \"\"\"\n",
    "    ELEMENT 1: Jupiter's Moons\n",
    "    ELEMENT 2: Ganymede 2020\n",
    "    ELEMENT 3: by Audi Lauper and Serena K. Goldberg. 2011\n",
    "    ELEMENT 4: From Wikipedia, the free encyclopedia\n",
    "    ELEMENT 5: Ganymede, or Jupiter III, is the largest and most massive natural satellite of Jupiter as well as in the Solar System, being a planetary-mass moon. It is the largest Solar System object without an atmosphere, despite being the only moon of the Solar System with a magnetic field. Like Titan, it is larger than the planet Mercury, but has somewhat less surface gravity than Mercury, Io or the Moon.\n",
    "    =========\n",
    "    \"Ganymede 2020\"\n",
    "\n",
    "    ELEMENT 1: FLAVR: Flow-Agnostic Video Representations for Fast Frame Interpolation\n",
    "    ELEMENT 2: Tarun Kalluri * UCSD\n",
    "    ELEMENT 3: Deepak Pathak CMU\n",
    "    ELEMENT 4: Manmohan Chandraker UCSD\n",
    "    ELEMENT 5: Du Tran Facebook AI\n",
    "    ELEMENT 6: https://tarun005.github.io/FLAVR/\n",
    "    ELEMENT 7: 2 2 0 2\n",
    "    ELEMENT 8: b e F 4 2\n",
    "    ELEMENT 9: ]\n",
    "    ELEMENT 10: V C . s c [\n",
    "    ========\n",
    "    \"FLAVR: Flow-Agnostic Video Representations for Fast Frame Interpolation\"\n",
    "    \n",
    "    \"\"\"\n",
    "author_context_template = \"\"\"\n",
    "    ELEMENT 1: Jupiter's Moons\n",
    "    ELEMENT 2: Ganymede 2020\n",
    "    ELEMENT 3: by Audi Lauper and Serena K. Goldberg. 2011\n",
    "    ELEMENT 4: From Wikipedia, the free encyclopedia\n",
    "    ELEMENT 5: Ganymede, or Jupiter III, is the largest and most massive natural satellite of Jupiter as well as in the Solar System, being a planetary-mass moon. It is the largest Solar System object without an atmosphere, despite being the only moon of the Solar System with a magnetic field. Like Titan, it is larger than the planet Mercury, but has somewhat less surface gravity than Mercury, Io or the Moon.\n",
    "    =========\n",
    "    Audi Laupe, Serena K. Goldberg\n",
    "\n",
    "    ELEMENT 1: FLAVR: Flow-Agnostic Video Representations for Fast Frame Interpolation\n",
    "    ELEMENT 2: Tarun Kalluri * UCSD\n",
    "    ELEMENT 3: Deepak Pathak CMU\n",
    "    ELEMENT 4: Manmohan Chandraker UCSD\n",
    "    ELEMENT 5: Du Tran Facebook AI\n",
    "    ELEMENT 6: https://tarun005.github.io/FLAVR/\n",
    "    ELEMENT 7: 2 2 0 2\n",
    "    ELEMENT 8: b e F 4 2\n",
    "    ELEMENT 9: ]\n",
    "    ELEMENT 10: V C . s c [\n",
    "    ========\n",
    "    Tarun Kalluri, Deepak Pathak, Manmohan Chandraker, Du Tran\n",
    "\n",
    "  \"\"\""
   ]
  },
  {
   "cell_type": "code",
   "execution_count": null,
   "id": "5f4c11c9-7f49-4c18-b16a-ce0125370f7b",
   "metadata": {},
   "outputs": [],
   "source": [
    "#This cell is added in the \"metadata extraction\" part of the example\n",
    "\n",
    "pdf_docset = (partitioned_docset\n",
    "              .extract_entity(entity_extractor=OpenAIEntityExtractor(\"title\", llm=openai_llm, prompt_template=title_context_template))\n",
    "              .extract_entity(entity_extractor=OpenAIEntityExtractor(\"authors\", llm=openai_llm, prompt_template=author_context_template)))\n",
    "\n",
    "pdf_docset = pdf_docset.spread_properties([\"title\", \"authors\"])\n",
    "\n",
    "pdf_docset.show(show_binary = False, show_elements=False)"
   ]
  },
  {
   "cell_type": "code",
   "execution_count": null,
   "id": "187f3d1b-63c4-40b0-a1bb-4af582e688a8",
   "metadata": {},
   "outputs": [],
   "source": [
    "pdf_docset = pdf_docset.merge(GreedyTextElementMerger(tokenizer=HuggingFaceTokenizer(\"sentence-transformers/all-MiniLM-L6-v2\"), max_tokens=512))"
   ]
  },
  {
   "cell_type": "code",
   "execution_count": null,
   "id": "edd7a132-1121-4184-aab6-45a0db6185d8",
   "metadata": {},
   "outputs": [],
   "source": [
    "pdf_docset = pdf_docset.explode()\n",
    "pdf_docset.show(show_binary = False)"
   ]
  },
  {
   "cell_type": "code",
   "execution_count": null,
   "id": "b87a679a-e1a8-423a-a2d7-bd9ecff6d582",
   "metadata": {},
   "outputs": [],
   "source": [
    "pdf_docset = (pdf_docset\n",
    "              .embed(embedder=SentenceTransformerEmbedder(batch_size=100, model_name=\"sentence-transformers/all-MiniLM-L6-v2\")))\n",
    "pdf_docset.show(show_binary = False)"
   ]
  },
  {
   "cell_type": "code",
   "execution_count": null,
   "id": "f5fb3a5a-dba5-4a4d-9014-0f970455ec0c",
   "metadata": {},
   "outputs": [],
   "source": [
    "#opensearch client settings and index configuration\n",
    "\n",
    "os_client_args = {\n",
    "        \"hosts\": [{\"host\": \"localhost\", \"port\": 9200}],\n",
    "        \"http_compress\": True,\n",
    "        \"http_auth\": (\"admin\", \"admin\"),\n",
    "        \"use_ssl\": False,\n",
    "        \"verify_certs\": False,\n",
    "        \"ssl_assert_hostname\": False,\n",
    "        \"ssl_show_warn\": False,\n",
    "        \"timeout\": 120,\n",
    "    }\n",
    "\n",
    "index = \"YOUR-INDEX-NAME\"\n",
    "\n",
    "index_settings =  {\n",
    "        \"body\": {\n",
    "            \"settings\": {\"index.knn\": True, \"number_of_shards\": 5, \"number_of_replicas\": 1},\n",
    "            \"mappings\": {\n",
    "                \"properties\": {\n",
    "                    \"text\": {\"type\": \"text\"},\n",
    "                    \"embedding\": {\n",
    "                        \"dimension\": 384,\n",
    "                        \"method\": {\"engine\": \"nmslib\", \"space_type\": \"l2\", \"name\": \"hnsw\", \"parameters\": {}},\n",
    "                        \"type\": \"knn_vector\",\n",
    "                    },\n",
    "                    \"title\": {\"type\": \"text\"},\n",
    "                    \"searchable_text\": {\"type\": \"text\"},\n",
    "                    \"title_embedding\": {\n",
    "                        \"dimension\": 384,\n",
    "                        \"method\": {\"engine\": \"nmslib\", \"space_type\": \"l2\", \"name\": \"hnsw\", \"parameters\": {}},\n",
    "                        \"type\": \"knn_vector\",\n",
    "                    },\n",
    "                    \"url\": {\"type\": \"text\"},\n",
    "                }\n",
    "            },\n",
    "        }\n",
    "    }"
   ]
  },
  {
   "cell_type": "code",
   "execution_count": null,
   "id": "b0ba6149-32e1-4150-a8cb-40c35d81781e",
   "metadata": {},
   "outputs": [],
   "source": [
    "pdf_docset.write.opensearch(os_client_args=os_client_args, index_name=index, index_settings=index_settings)"
   ]
  }
 ],
 "metadata": {
  "kernelspec": {
   "display_name": "Python 3 (ipykernel)",
   "language": "python",
   "name": "python3"
  },
  "language_info": {
   "codemirror_mode": {
    "name": "ipython",
    "version": 3
   },
   "file_extension": ".py",
   "mimetype": "text/x-python",
   "name": "python",
   "nbconvert_exporter": "python",
   "pygments_lexer": "ipython3",
   "version": "3.11.6"
  }
 },
 "nbformat": 4,
 "nbformat_minor": 5
}
